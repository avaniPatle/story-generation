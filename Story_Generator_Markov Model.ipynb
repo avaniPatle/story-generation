{
  "cells": [
    {
      "cell_type": "markdown",
      "metadata": {
        "id": "KflTqIE2p3FI"
      },
      "source": [
        "<img src=\"https://drive.google.com/uc?export=view&amp;id=1zSJwAUxWv5bxyYLmYPNi-s6M_Wq5iWXh\">"
      ]
    },
    {
      "cell_type": "code",
      "execution_count": null,
      "metadata": {
        "colab": {
          "base_uri": "https://localhost:8080/"
        },
        "id": "3UA69Fajp3FJ",
        "outputId": "29f03f38-184b-4d22-a049-9bc71acaf07b"
      },
      "outputs": [
        {
          "output_type": "stream",
          "name": "stdout",
          "text": [
            "Requirement already satisfied: nltk in /usr/local/lib/python3.10/dist-packages (3.8.1)\n",
            "Requirement already satisfied: click in /usr/local/lib/python3.10/dist-packages (from nltk) (8.1.7)\n",
            "Requirement already satisfied: joblib in /usr/local/lib/python3.10/dist-packages (from nltk) (1.3.2)\n",
            "Requirement already satisfied: regex>=2021.8.3 in /usr/local/lib/python3.10/dist-packages (from nltk) (2023.6.3)\n",
            "Requirement already satisfied: tqdm in /usr/local/lib/python3.10/dist-packages (from nltk) (4.66.1)\n"
          ]
        }
      ],
      "source": [
        "pip install nltk"
      ]
    },
    {
      "cell_type": "code",
      "execution_count": null,
      "metadata": {
        "colab": {
          "base_uri": "https://localhost:8080/"
        },
        "id": "vs32E7zOp3FK",
        "outputId": "eaddf820-7192-43ad-8bae-675578998972"
      },
      "outputs": [
        {
          "output_type": "stream",
          "name": "stdout",
          "text": [
            "Mounted at /content/drive\n"
          ]
        }
      ],
      "source": [
        "import numpy as np\n",
        "import pandas as pd\n",
        "import os\n",
        "import re\n",
        "import string\n",
        "from nltk.tokenize import word_tokenize\n",
        "from nltk.corpus import stopwords\n",
        "import nltk\n",
        "import random\n",
        "from google.colab import drive\n",
        "drive.mount('/content/drive')"
      ]
    },
    {
      "cell_type": "code",
      "execution_count": null,
      "metadata": {
        "colab": {
          "base_uri": "https://localhost:8080/"
        },
        "id": "DSn1x1zzp3FL",
        "outputId": "06d00719-8421-4f5a-9993-060206b9a42b"
      },
      "outputs": [
        {
          "output_type": "stream",
          "name": "stderr",
          "text": [
            "[nltk_data] Downloading package punkt to /root/nltk_data...\n",
            "[nltk_data]   Unzipping tokenizers/punkt.zip.\n"
          ]
        },
        {
          "output_type": "execute_result",
          "data": {
            "text/plain": [
              "True"
            ]
          },
          "metadata": {},
          "execution_count": 3
        }
      ],
      "source": [
        "nltk.download('punkt')"
      ]
    },
    {
      "cell_type": "markdown",
      "source": [
        "## **Dataset:- Sherlock Stories**\n",
        "Contains all Sherlock stories (short stories + Novels)"
      ],
      "metadata": {
        "id": "zNFV6Jn16nKI"
      }
    },
    {
      "cell_type": "markdown",
      "metadata": {
        "id": "NGV3oOZup3FL"
      },
      "source": [
        "## **Reading all .txt files(stories)**"
      ]
    },
    {
      "cell_type": "code",
      "execution_count": null,
      "metadata": {
        "colab": {
          "base_uri": "https://localhost:8080/"
        },
        "id": "nHNA7Z8vp3FL",
        "outputId": "755a1f10-8f74-4b17-87a5-868fc341f597"
      },
      "outputs": [
        {
          "output_type": "stream",
          "name": "stdout",
          "text": [
            "Number of lines = 215021\n"
          ]
        }
      ],
      "source": [
        "import os\n",
        "\n",
        "story_path = \"/content/drive/My Drive/sherlock\"\n",
        "\n",
        "def read_all_stories(story_path):\n",
        "    txt = []\n",
        "    for root, _, files in os.walk(story_path):\n",
        "        for file in files:\n",
        "            # Check if the file has a \".txt\" extension\n",
        "            if file.endswith('.txt'):\n",
        "                with open(os.path.join(root, file), 'r') as f:\n",
        "                    for line in f:\n",
        "                        line = line.strip()\n",
        "                        if line == '----------':\n",
        "                            break\n",
        "                        if line != '':\n",
        "                            txt.append(line)\n",
        "    return txt\n",
        "\n",
        "stories = read_all_stories(story_path)\n",
        "\n",
        "print(\"Number of lines =\", len(stories))\n"
      ]
    },
    {
      "cell_type": "code",
      "execution_count": null,
      "metadata": {
        "colab": {
          "base_uri": "https://localhost:8080/"
        },
        "id": "Z_RF0jgGp3FM",
        "outputId": "786e335b-f185-41f8-a8fa-4925b2c6d78e"
      },
      "outputs": [
        {
          "output_type": "execute_result",
          "data": {
            "text/plain": [
              "['THE ADVENTURE OF THE THREE GARRIDEBS',\n",
              " 'Arthur Conan Doyle',\n",
              " 'It may have been a comedy, or it may have been a tragedy. It cost one',\n",
              " 'man his reason, it cost me a blood-letting, and it cost yet another',\n",
              " 'man the penalties of the law. Yet there was certainly an element of',\n",
              " 'comedy. Well, you shall judge for yourselves.',\n",
              " 'I remember the date very well, for it was in the same month that',\n",
              " 'Holmes refused a knighthood for services which may perhaps some day',\n",
              " 'be described. I only refer to the matter in passing, for in my',\n",
              " 'position of partner and confidant I am obliged to be particularly']"
            ]
          },
          "metadata": {},
          "execution_count": 4
        }
      ],
      "source": [
        "stories[:10]"
      ]
    },
    {
      "cell_type": "markdown",
      "metadata": {
        "id": "29sJl1Y_p3FM"
      },
      "source": [
        "## **Cleaning the text**"
      ]
    },
    {
      "cell_type": "code",
      "execution_count": null,
      "metadata": {
        "colab": {
          "base_uri": "https://localhost:8080/"
        },
        "id": "bdal67Ivp3FM",
        "outputId": "2048742a-0219-4140-cfb0-4fb500e58f0c"
      },
      "outputs": [
        {
          "output_type": "stream",
          "name": "stdout",
          "text": [
            "number of words =  2332247\n"
          ]
        }
      ],
      "source": [
        "def clean_txt(txt):\n",
        "    cleaned_txt = []\n",
        "    for line in txt:\n",
        "        line = line.lower()\n",
        "        line = re.sub(r\"[,.\\\"\\'!@#$%^&*(){}?/;`~:<>+=-\\\\]\", \"\", line)\n",
        "        tokens = word_tokenize(line)\n",
        "        words = [word for word in tokens if word.isalpha()]\n",
        "        cleaned_txt += (words)\n",
        "    return cleaned_txt\n",
        "\n",
        "cleaned_stories = clean_txt(stories)\n",
        "print(\"number of words = \", len(cleaned_stories))"
      ]
    },
    {
      "cell_type": "code",
      "execution_count": null,
      "metadata": {
        "colab": {
          "base_uri": "https://localhost:8080/"
        },
        "id": "RGviryMjp3FM",
        "outputId": "eddb572e-c03e-4dea-8a83-fd8b8383d355"
      },
      "outputs": [
        {
          "output_type": "execute_result",
          "data": {
            "text/plain": [
              "['the',\n",
              " 'adventure',\n",
              " 'of',\n",
              " 'the',\n",
              " 'three',\n",
              " 'garridebs',\n",
              " 'arthur',\n",
              " 'conan',\n",
              " 'doyle',\n",
              " 'it']"
            ]
          },
          "metadata": {},
          "execution_count": 10
        }
      ],
      "source": [
        "cleaned_stories[:10]"
      ]
    },
    {
      "cell_type": "markdown",
      "metadata": {
        "id": "qHbktbNxp3FM"
      },
      "source": [
        "## **Creating the Markov Model**"
      ]
    },
    {
      "cell_type": "code",
      "execution_count": null,
      "metadata": {
        "id": "TI7-UvMZp3FM"
      },
      "outputs": [],
      "source": [
        "def make_markov_model_1(cleaned_stories, n_gram=1):\n",
        "    markov_model = {}\n",
        "    for i in range(len(cleaned_stories)-n_gram-1):\n",
        "        curr_state, next_state = \"\", \"\"\n",
        "        for j in range(n_gram):\n",
        "            curr_state += cleaned_stories[i+j-1] + \" \"\n",
        "            next_state += cleaned_stories[i+j+n_gram-1] + \" \"\n",
        "        curr_state = curr_state[:-1]\n",
        "        next_state = next_state[:-1]\n",
        "        if curr_state not in markov_model:\n",
        "            markov_model[curr_state] = {}\n",
        "            markov_model[curr_state][next_state] = 1\n",
        "        else:\n",
        "            if next_state in markov_model[curr_state]:\n",
        "                markov_model[curr_state][next_state] += 1\n",
        "            else:\n",
        "                markov_model[curr_state][next_state] = 1\n",
        "\n",
        "    # calculating transition probabilities\n",
        "    for curr_state, transition in markov_model.items():\n",
        "        total = sum(transition.values())\n",
        "        for state, count in transition.items():\n",
        "            markov_model[curr_state][state] = count/total\n",
        "\n",
        "    return markov_model"
      ]
    },
    {
      "cell_type": "code",
      "execution_count": null,
      "metadata": {
        "id": "9k84hpKxp3FM"
      },
      "outputs": [],
      "source": [
        "def make_markov_model_3(cleaned_stories, n_gram=3):\n",
        "    markov_model = {}\n",
        "    for i in range(len(cleaned_stories)-n_gram-1):\n",
        "        curr_state, next_state = \"\", \"\"\n",
        "        for j in range(n_gram):\n",
        "            curr_state += cleaned_stories[i+j-1] + \" \"\n",
        "            next_state += cleaned_stories[i+j+n_gram-1] + \" \"\n",
        "        curr_state = curr_state[:-1]\n",
        "        next_state = next_state[:-1]\n",
        "        if curr_state not in markov_model:\n",
        "            markov_model[curr_state] = {}\n",
        "            markov_model[curr_state][next_state] = 1\n",
        "        else:\n",
        "            if next_state in markov_model[curr_state]:\n",
        "                markov_model[curr_state][next_state] += 1\n",
        "            else:\n",
        "                markov_model[curr_state][next_state] = 1\n",
        "\n",
        "    # calculating transition probabilities\n",
        "    for curr_state, transition in markov_model.items():\n",
        "        total = sum(transition.values())\n",
        "        for state, count in transition.items():\n",
        "            markov_model[curr_state][state] = count/total\n",
        "\n",
        "    return markov_model"
      ]
    },
    {
      "cell_type": "code",
      "execution_count": null,
      "metadata": {
        "id": "i-SkqDKTp3FN"
      },
      "outputs": [],
      "source": [
        "def make_markov_model_2(cleaned_stories, n_gram=2):\n",
        "    markov_model = {}\n",
        "    for i in range(len(cleaned_stories)-n_gram-1):\n",
        "        curr_state, next_state = \"\", \"\"\n",
        "        for j in range(n_gram):\n",
        "            curr_state += cleaned_stories[i+j] + \" \"\n",
        "            next_state += cleaned_stories[i+j+n_gram] + \" \"\n",
        "        curr_state = curr_state[:-1]\n",
        "        next_state = next_state[:-1]\n",
        "        if curr_state not in markov_model:\n",
        "            markov_model[curr_state] = {}\n",
        "            markov_model[curr_state][next_state] = 1\n",
        "        else:\n",
        "            if next_state in markov_model[curr_state]:\n",
        "                markov_model[curr_state][next_state] += 1\n",
        "            else:\n",
        "                markov_model[curr_state][next_state] = 1\n",
        "\n",
        "    # calculating transition probabilities\n",
        "    for curr_state, transition in markov_model.items():\n",
        "        total = sum(transition.values())\n",
        "        for state, count in transition.items():\n",
        "            markov_model[curr_state][state] = count/total\n",
        "\n",
        "    return markov_model"
      ]
    },
    {
      "cell_type": "code",
      "execution_count": null,
      "metadata": {
        "id": "QnkXeUQ2p3FN"
      },
      "outputs": [],
      "source": [
        "markov_model_3 = make_markov_model_3(cleaned_stories)\n",
        "markov_model_2 = make_markov_model_2(cleaned_stories)\n",
        "markov_model_1= make_markov_model_1(cleaned_stories)\n"
      ]
    },
    {
      "cell_type": "code",
      "execution_count": null,
      "metadata": {
        "colab": {
          "base_uri": "https://localhost:8080/"
        },
        "id": "itntNM7Up3FN",
        "outputId": "e615aade-32cf-4c46-a5b6-d3985bff843d"
      },
      "outputs": [
        {
          "output_type": "stream",
          "name": "stdout",
          "text": [
            "number of states =  474225\n"
          ]
        }
      ],
      "source": [
        "print(\"number of states = \", len(markov_model_3.keys()))"
      ]
    },
    {
      "cell_type": "code",
      "execution_count": null,
      "metadata": {
        "colab": {
          "base_uri": "https://localhost:8080/"
        },
        "id": "dQhu33U4p3FN",
        "outputId": "1267198c-e55d-4608-cdd8-58e0f8388ab4"
      },
      "outputs": [
        {
          "output_type": "stream",
          "name": "stdout",
          "text": [
            "All possible transitions from 'it is the' state: \n",
            "\n",
            "{'german who is': 0.013888888888888888, 'morning chronicle of': 0.013888888888888888, 'first saturday night': 0.013888888888888888, 'brightest rift which': 0.013888888888888888, 'more strange since': 0.013888888888888888, 'of the gun': 0.013888888888888888, 'object of these': 0.013888888888888888, 'vilest on the': 0.013888888888888888, 'clue which will': 0.013888888888888888, 'precious stone not': 0.013888888888888888, 'season of forgiveness': 0.013888888888888888, 'worst of all': 0.013888888888888888, 'purest accident i': 0.013888888888888888, 'most lovely country': 0.013888888888888888, 'most probable one': 0.013888888888888888, 'five miles of': 0.013888888888888888, 'daughter miss alice': 0.013888888888888888, 'less likely to': 0.013888888888888888, 'tobacco which i': 0.013888888888888888, 'supposed murder of': 0.013888888888888888, 'least i can': 0.010416666666666666, 'only time i': 0.010416666666666666, 'first rule of': 0.013888888888888888, 'most practical discovery': 0.010416666666666666, 'impression of a': 0.010416666666666666, 'mark of the': 0.010416666666666666, 'man quite so': 0.010416666666666666, 'only hypothesis which': 0.010416666666666666, 'unofficial force the': 0.010416666666666666, 'one which was': 0.013888888888888888, 'one quality which': 0.013888888888888888, 'first shadow that': 0.013888888888888888, 'thought that you': 0.013888888888888888, 'same party in': 0.013888888888888888, 'very time at': 0.013888888888888888, 'slackest time in': 0.013888888888888888, 'side entrance for': 0.013888888888888888, 'right one that': 0.013888888888888888, 'characters are as': 0.013888888888888888, 'reappearance of that': 0.013888888888888888, 'only time that': 0.013888888888888888, 'dukes desire that': 0.013888888888888888, 'second most interesting': 0.013888888888888888, 'lady eva brackwell': 0.013888888888888888, 'sequel of the': 0.013888888888888888, 'murder that we': 0.013888888888888888, 'most famous pearl': 0.013888888888888888, 'truth that i': 0.013888888888888888, 'truth i fear': 0.013888888888888888, 'cottage in the': 0.013888888888888888, 'scientific use of': 0.010416666666666666, 'hound of the': 0.010416666666666666, 'most complete one': 0.010416666666666666, 'place of danger': 0.010416666666666666, 'cry of the': 0.010416666666666666, 'stoniest part of': 0.010416666666666666, 'greatest blow which': 0.010416666666666666, 'first quality of': 0.010416666666666666, 'centre for a': 0.010416666666666666, 'only thing that': 0.010416666666666666, 'same as a': 0.010416666666666666, 'other vat vill': 0.010416666666666666, 'good pleasure of': 0.010416666666666666, 'valley of fear': 0.010416666666666666, 'second time i': 0.010416666666666666, 'orders of the': 0.010416666666666666, 'famous old jacobean': 0.013888888888888888, 'noble chivalrous garcia': 0.013888888888888888, 'answer he tore': 0.013888888888888888, 'same message over': 0.013888888888888888, 'bootmaker since your': 0.013888888888888888, 'most business we': 0.013888888888888888, 'brain i must': 0.010416666666666666, 'wrong track it': 0.010416666666666666, 'only personal introduction': 0.010416666666666666, 'more terrible as': 0.010416666666666666, 'more painful because': 0.010416666666666666, 'letter which holmes': 0.010416666666666666, 'problem itself which': 0.010416666666666666, 'only obvious alternative': 0.010416666666666666}\n"
          ]
        }
      ],
      "source": [
        "print(\"All possible transitions from 'it is the' state: \\n\")\n",
        "print(markov_model_3['it is the'])"
      ]
    },
    {
      "cell_type": "markdown",
      "metadata": {
        "id": "P65p9Xc1p3FN"
      },
      "source": [
        "## **Model for Generating a Story**"
      ]
    },
    {
      "cell_type": "code",
      "execution_count": null,
      "metadata": {
        "id": "KWA2r2jop3FN"
      },
      "outputs": [],
      "source": [
        "def generate_story(markov_model, start, limit=100):\n",
        "    n = 0\n",
        "    curr_state = start\n",
        "    next_state = None\n",
        "    story = \"\"\n",
        "    story+=curr_state+\" \"\n",
        "    while n<limit:\n",
        "        next_state = random.choices(list(markov_model[curr_state].keys()),\n",
        "                                    list(markov_model[curr_state].values()))\n",
        "\n",
        "        curr_state = next_state[0]\n",
        "        story+=curr_state+\" \"\n",
        "        n+=1\n",
        "    return story"
      ]
    },
    {
      "cell_type": "markdown",
      "source": [
        "### **Generating 10 lines of a story with a given seed text/initial text**"
      ],
      "metadata": {
        "id": "dStN45O46IRk"
      }
    },
    {
      "cell_type": "code",
      "execution_count": null,
      "metadata": {
        "id": "HhHrKYXzp3FN",
        "outputId": "c364a8af-c349-4630-d197-a1d056476c86"
      },
      "outputs": [
        {
          "name": "stdout",
          "output_type": "stream",
          "text": [
            "0.  dear holmes if i call i am afraid i cant forget that we know we have their description \n",
            "1.  dear holmes i thought of that secret treaty between england and italy of which we already knew holmes \n",
            "2.  dear holmes i have rather invited this persecution since i saw you near the window where boots had \n",
            "3.  dear holmes said i very likely yet the amazing thing is that asked holmes we have now been \n",
            "4.  dear holmes i fear him for he was here i shall be strong enough if i had left \n",
            "5.  dear holmes he has lost some years ago when he refers to her photograph it is our friend \n",
            "6.  dear holmes oh yes no doubt and used this means of giving the alarm why did you drive \n",
            "7.  dear holmes am i allowed to dry up and served the humble words very good brother morris its \n",
            "8.  dear holmes said i as i hurried on past me without a breach of it is not but \n",
            "9.  dear holmes he has many a curious glance was cast but it did seem strange of human experience \n"
          ]
        }
      ],
      "source": [
        "for i in range(10):\n",
        "    print(str(i)+\". \", generate_story(markov_model_2, start=\"dear holmes\", limit=8))"
      ]
    },
    {
      "cell_type": "code",
      "execution_count": null,
      "metadata": {
        "id": "FHJHoxqXp3FN",
        "outputId": "56c8eabe-9100-420c-bebe-0994343972ef"
      },
      "outputs": [
        {
          "name": "stdout",
          "output_type": "stream",
          "text": [
            "0.  my dear watson i am perfectly fresh now and quite ready for another nights outing no we can do nothing we can only wait if we go \n",
            "1.  my dear watson do you imagine that it means i have no connection with any other people who have been making a fool of me and that \n",
            "2.  my dear watson should have told me all however we may congratulate ourselves upon a search that you knew to be justice there he found evil tidings \n",
            "3.  my dear watson and all your following were investigating in the most fantastic fashion by his hand upon my arm i think watson that if we drive \n",
            "4.  my dear watson was very faulty you should have no difficulty in engaging a bedroom and at the same time most conducive to a display of those \n",
            "5.  my dear watson we have ended by turning the dancing men to good when they have so often cautioned me not to do this myself for as \n",
            "6.  my dear watson i had the good fortune to seize upon that and everything which has occurred since then has served to confirm my original supposition and \n",
            "7.  my dear watson the more deeply sunk impression is of course the window and door were open then and the paint or some of it was already \n",
            "8.  my dear watson clumsy as i have been you surely do not seriously imagine that i neglected to get the number my dear watson i will at \n",
            "9.  my dear watson of the value of the securities here mentioned inquiries are now being made at the time i start then from the table he took \n"
          ]
        }
      ],
      "source": [
        "for i in range(10):\n",
        "    print(str(i)+\". \", generate_story(markov_model_3, start=\"my dear watson\", limit=8))"
      ]
    },
    {
      "cell_type": "code",
      "execution_count": null,
      "metadata": {
        "id": "kAkq1WBGp3FN",
        "outputId": "6d1cee41-c225-4f4b-fe3b-2cc133b497fa"
      },
      "outputs": [
        {
          "name": "stdout",
          "output_type": "stream",
          "text": [
            "0.  my dear watson try a little nut for you to know that i would say eminent bodymaster that \n",
            "1.  my dear sir i have not forgotten your successful action in the direction of chesterfield what do you \n",
            "2.  my dear madam said holmes cheerily as we moved across it in advance for this reason i sent \n",
            "3.  my dear friend stood i know the name douglas rich country now at birlstone manor house did not \n",
            "4.  my dear mycroft the chain is complete the maids corroboration was sufficient the detail was fairly within the \n",
            "5.  my dear sir cried the king of bohemia i was so out of breath mr gibson yes he \n",
            "6.  my dear watson said he you seem heeled and ready the young man into safe quarters so within \n",
            "7.  my dear daughter alice now in his fifth year and has brought nothing but i am on duty \n",
            "8.  my dear holmes i believe said she i asked she is franklands daughter what was to be his \n",
            "9.  my dear colonel that you must put it down to see me touch your money afterwards if you \n"
          ]
        }
      ],
      "source": [
        "for i in range(10):\n",
        "    print(str(i)+\". \", generate_story(markov_model_2, start=\"my dear\", limit=8))"
      ]
    },
    {
      "cell_type": "code",
      "execution_count": null,
      "metadata": {
        "id": "Ma0qB-3jp3FO",
        "outputId": "8c772e4e-bddd-4a5d-ab6b-67e04f641a81",
        "colab": {
          "base_uri": "https://localhost:8080/"
        }
      },
      "outputs": [
        {
          "output_type": "stream",
          "name": "stdout",
          "text": [
            "the case of the thor bridge mystery to your annals i have been sluggish in mind and wanting in that mixture of imagination and reality which is the basis of the deduction the same may be said my dear fellow for the effect of some of these little sketches of yours which is entirely meretricious depending as it does upon your retaining in your own hands some factors in the problem which we have to deal and we must not permit our attention to wander away from it it is obvious that he would go for days and even for a week and then yesterday morning i found this paper lying on the in the garden i lent the ostlers a hand in the affairs of life it is something new for me to see how the detectives overbearing manner had changed suddenly to that of a sensitive gentleman and the thin white hand which he laid on the mantelpiece as he rose was that of an artist rather than of a surgeon his dress was quiet and sombre a black dark trousers and a touch of nerves that at least is very easily settled said holmes lighting his little pocket lantern yes he reported after a short examination of the grass bed a number twelve shoe i should say if he was all on the same scale as his foot he must certainly have been a little over an hour before i got my mouth free when i did so my screams brought the maid to my assistance the other servants were soon alarmed and we sent for the doctor and the police did he seem to you to be relevant or not i would only ask this what do you imagine that it means i have no data i can not \n"
          ]
        }
      ],
      "source": [
        "print(generate_story(markov_model_3, start=\"the case of\", limit=100))"
      ]
    },
    {
      "cell_type": "code",
      "execution_count": null,
      "metadata": {
        "id": "RR_fsABep3FO",
        "outputId": "fb3fba6c-224c-4049-da44-c63a91c0abd1",
        "colab": {
          "base_uri": "https://localhost:8080/"
        }
      },
      "outputs": [
        {
          "output_type": "stream",
          "name": "stdout",
          "text": [
            "sherlock holmes is the maid who has never left the woman i had once more respectable establishment was evidently not well well you have consulted not see sir i found his suggestion of the sofa now practically complete set like the stair first that belongs to the news agent without my patients were not an accomplice together round my face and alec was right away from a local fanatic would be found ourselves to see how did but james left my chance of the and official police must make up a tall gaunt features became master had been inflicted was not \n"
          ]
        }
      ],
      "source": [
        "print(generate_story(markov_model_1, start=\"sherlock\", limit=100))"
      ]
    },
    {
      "cell_type": "markdown",
      "metadata": {
        "id": "eE65SCwwp3FO"
      },
      "source": [
        "## **Calculating BLEU score for single generated text**"
      ]
    },
    {
      "cell_type": "code",
      "execution_count": null,
      "metadata": {
        "id": "MBBX8qznp3FO",
        "outputId": "d1cbda3e-5c5b-43d0-a67e-5c01ab971d6a"
      },
      "outputs": [
        {
          "name": "stdout",
          "output_type": "stream",
          "text": [
            "BLEU Score: 0.49321942710512484\n",
            "sherlock holmes and myself i know hes following someone yesterday he was well liked by the way he dropped his papers and to find any other point which we shall drive round together after luncheon certainly i answered what you have got his there has been used if it had been snatched down from mrs hilton cubitt was seriously injured and is rather inaccessible to all appearance a most brilliant career before him but at last he started in the sunshine with a confused memory too of having taken opium never thank you mrs lyons we were under the impression of flabbiness which this man inspired me i could see that from me once or twice as in feature she impressed me with fear and he fell backwards cutting his face open that was possible for you to two curiosities five minutes we were there under the ten minutes then he could run until he was dancing and laughing and wringing my hand could this be my stern friend these were hidden fires indeed a beard a beard followed dr mortimer to baker street without his socks he certainly acted on very special occasions curious watson very curious coincidence has occurred but now consider the question im asking you is no doubt at all of what has passed there its a terrible sob shook his great frame and do odd jobs the fellow left his bicycle behind him when lady hilda was down on to the daughter of the same dull hue relieved only by a second one should not do well the second carriage from the front door i have no right to charge but it is unlikely that we shall see who agrees with you i made excellent arrangements and they are never sold upon hats if this man was either a very bad compliment when you said why surely because there are no lengths to which this young man has got to win a little clearer both to the old english capital holmes had been disturbed for the woman whose secret and reputation come into these parts ive heard that with the connivance and assistance of course we had best do so we shall look out for that purpose napoleons from the bank of england care for dr roylotts the second point we can see that it might be concocted these theories take no account of this narrow wing \n"
          ]
        }
      ],
      "source": [
        "from nltk.translate.bleu_score import corpus_bleu\n",
        "result=generate_story(markov_model_2, start=\"sherlock holmes\", limit=200)\n",
        "#stories is our cleaned text variable\n",
        "generated_tokens = result.split()\n",
        "reference_tokens = [sentence.split() for sentence in stories]\n",
        "\n",
        "# Compute the BLEU score\n",
        "bleu_score = corpus_bleu([reference_tokens], [generated_tokens])\n",
        "\n",
        "print(\"BLEU Score:\", bleu_score)\n",
        "print(result)"
      ]
    },
    {
      "cell_type": "markdown",
      "source": [
        "## **Calculating BLEU score for Multiple generated texts**"
      ],
      "metadata": {
        "id": "7bI8N1EZ7H0x"
      }
    },
    {
      "cell_type": "code",
      "source": [
        "bleu_scores_model_1 = []\n",
        "inputs_model_1 = ['sherlock','holmes','gun','the']  # List of inputs for model 1\n",
        "for input_text in inputs_model_1:\n",
        "    result = generate_story(markov_model_1, input_text, limit=200)\n",
        "    generated_tokens = result.split()\n",
        "    reference_tokens = [sentence.split() for sentence in stories]\n",
        "\n",
        "    bleu_score = corpus_bleu([reference_tokens], [generated_tokens])\n",
        "    bleu_scores_model_1.append(bleu_score)"
      ],
      "metadata": {
        "id": "kT8QT_w5rjYF"
      },
      "execution_count": null,
      "outputs": []
    },
    {
      "cell_type": "code",
      "source": [
        "bleu_scores_model_2 = []\n",
        "inputs_model_2 = ['my dear','was a','sherlock is','the case']  # List of inputs for model 2\n",
        "for input_text in inputs_model_2:\n",
        "    result = generate_story(markov_model_2, input_text, limit=200)\n",
        "    generated_tokens = result.split()\n",
        "    reference_tokens = [sentence.split() for sentence in stories]\n",
        "\n",
        "    bleu_score = corpus_bleu([reference_tokens], [generated_tokens])\n",
        "    bleu_scores_model_2.append(bleu_score)"
      ],
      "metadata": {
        "id": "4YxpWj0GrjRD"
      },
      "execution_count": null,
      "outputs": []
    },
    {
      "cell_type": "code",
      "source": [
        "bleu_scores_model_3 = []\n",
        "inputs_model_3 = ['it is the','first rule of','sherlock holmes is','the case of']  # List of inputs for model 3\n",
        "\n",
        "for input_text in inputs_model_3:\n",
        "    result = generate_story(markov_model_3, input_text, limit=200)\n",
        "    generated_tokens = result.split()\n",
        "    reference_tokens = [sentence.split() for sentence in stories]\n",
        "\n",
        "    bleu_score = corpus_bleu([reference_tokens], [generated_tokens])\n",
        "    bleu_scores_model_3.append(bleu_score)\n"
      ],
      "metadata": {
        "id": "RIvHFxOgrXKj"
      },
      "execution_count": null,
      "outputs": []
    },
    {
      "cell_type": "code",
      "source": [
        "print(bleu_scores_model_1)\n",
        "print(bleu_scores_model_2)\n",
        "print(bleu_scores_model_3)"
      ],
      "metadata": {
        "colab": {
          "base_uri": "https://localhost:8080/"
        },
        "id": "qJYcX-AF5qSU",
        "outputId": "dc7f5f03-bac3-466e-bb8c-18cadeae1604"
      },
      "execution_count": null,
      "outputs": [
        {
          "output_type": "stream",
          "name": "stdout",
          "text": [
            "[0.2300133520773233, 0.20261164638795667, 0.23494509019939988, 0.1949746790688365]\n",
            "[0.5180243107161651, 0.502341490869062, 0.505695453480847, 0.4674755092913363]\n",
            "[0.5035106888410578, 0.5209253236227978, 0.5257508482167522, 0.51382268548481]\n"
          ]
        }
      ]
    },
    {
      "cell_type": "markdown",
      "source": [
        "## **Results:-**"
      ],
      "metadata": {
        "id": "BssDOoat7VAx"
      }
    },
    {
      "cell_type": "code",
      "source": [
        "import matplotlib.pyplot as plt\n",
        "\n",
        "plt.figure(figsize=(10, 6))\n",
        "plt.plot(bleu_scores_model_1, label='Model 1')\n",
        "plt.plot(bleu_scores_model_2, label='Model 2')\n",
        "plt.plot(bleu_scores_model_3, label='Model 3')\n",
        "plt.xlabel('Input Index')\n",
        "plt.ylabel('BLEU Score')\n",
        "plt.title('BLEU Score Comparison for Different Models')\n",
        "plt.legend()\n",
        "plt.xticks([])\n",
        "plt.show()\n"
      ],
      "metadata": {
        "colab": {
          "base_uri": "https://localhost:8080/",
          "height": 540
        },
        "id": "0Q8NYNI4hVN9",
        "outputId": "c965ab4a-79f5-4c49-9368-5cbc305fa9c9"
      },
      "execution_count": null,
      "outputs": [
        {
          "output_type": "display_data",
          "data": {
            "text/plain": [
              "<Figure size 1000x600 with 1 Axes>"
            ],
            "image/png": "[encoded data removed]"
          },
          "metadata": {}
        }
      ]
    },
    {
      "cell_type": "markdown",
      "source": [
        "## **Inference**\n",
        "* BLEU scores for n_grams=3 range between approximately 0.50 to 0.53, indicating **moderate to reasonably good similarity** with the reference text. It implies that the machine-generated text has captured a substantial portion of the concepts, phrases, and wordings found in the human-written reference.\n",
        "\n",
        "* Scores for n_grams=2 from approximately 0.467 to 0.518, suggest a **moderate to reasonably good level of similarity** between the machine-generated text and the reference text.\n",
        "\n",
        "\n",
        "* Scores for a unigram ranging from approximately 0.19 to 0.23, suggest a **moderate level of similarity** between the machine-generated text and the reference text. There still is a massive room for improvement."
      ],
      "metadata": {
        "id": "RLPi0IDx57os"
      }
    }
  ],
  "metadata": {
    "colab": {
      "provenance": []
    },
    "kernelspec": {
      "display_name": "Python 3",
      "name": "python3"
    },
    "language_info": {
      "codemirror_mode": {
        "name": "ipython",
        "version": 3
      },
      "file_extension": ".py",
      "mimetype": "text/x-python",
      "name": "python",
      "nbconvert_exporter": "python",
      "pygments_lexer": "ipython3",
      "version": "3.9.13"
    }
  },
  "nbformat": 4,
  "nbformat_minor": 0
}